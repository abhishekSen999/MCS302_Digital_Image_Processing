{
 "cells": [
  {
   "cell_type": "code",
   "execution_count": 20,
   "metadata": {},
   "outputs": [],
   "source": [
    "from PIL import Image\n",
    "import matplotlib.pyplot as plt\n",
    "import numpy as np"
   ]
  },
  {
   "cell_type": "code",
   "execution_count": 21,
   "metadata": {},
   "outputs": [],
   "source": [
    "def get_equalization_map_inverse(total_pixels,frequency_distribution,l):\n",
    "    cumulative=[0]*l\n",
    "    cumulative[0]=frequency_distribution[0]\n",
    "    for i in range(1,l):\n",
    "        cumulative[i]=frequency_distribution[i]+cumulative[i-1]\n",
    "    equalization_map=[0]*l\n",
    "    \n",
    "    for i in range(l):\n",
    "        equalization_map[i]=int(cumulative[i]*(l-1)/total_pixels)\n",
    "\n",
    "    equalization_map_inverse=[0]*l\n",
    "    \n",
    "    for i in range(l):\n",
    "        equalization_map_inverse[equalization_map[i]]=i\n",
    "    # for i in range(len(equalization_map)):\n",
    "    #     print(i,\" - \",frequency_distribution[i],\" - \",cumulative[i],\" - \",equalization_map[i],\"\\n\")\n",
    "    \n",
    "    return equalization_map_inverse\n"
   ]
  },
  {
   "cell_type": "code",
   "execution_count": 22,
   "metadata": {},
   "outputs": [],
   "source": [
    "def get_image_linear(name,l):\n",
    "    img=Image.open(name)\n",
    "    width , height =img.size\n",
    "    pixels=img.load()\n",
    "    total_pixels=width*height\n",
    "    linear=list(img.getdata())\n",
    "#     img_matrix=[]\n",
    "#     for w in range(width):\n",
    "#         temp_array=[]\n",
    "#         for h in range(height):\n",
    "#             p=img.getpixel((w,h))\n",
    "#             temp_array+=[p]\n",
    "#         img_matrix+=[temp_array]\n",
    "#     return linear , img_matrix\n",
    "    return linear\n"
   ]
  },
  {
   "cell_type": "code",
   "execution_count": 23,
   "metadata": {},
   "outputs": [],
   "source": [
    "def get_frequency_distribution(img_linear,l):\n",
    "    distribution=[0]*l\n",
    "    for pixel in img_linear:\n",
    "        distribution[pixel]+=1\n",
    "    return distribution"
   ]
  },
  {
   "cell_type": "code",
   "execution_count": 24,
   "metadata": {},
   "outputs": [],
   "source": [
    "def create_image(equalization_map,name,final_name):\n",
    "    img = Image.open(name)\n",
    "    width, height = img.size\n",
    "    pixels = img.load()\n",
    "    for w in range(width):\n",
    "        for h in range(height):\n",
    "            #retrieve the pixel value\n",
    "            p = img.getpixel((w,h))\n",
    "            \n",
    "            pixels[w,h] = (equalization_map[p])\n",
    "    img.show()\n",
    "    img.save(final_name)\n"
   ]
  },
  {
   "cell_type": "code",
   "execution_count": 25,
   "metadata": {},
   "outputs": [],
   "source": [
    "def get_closest_index(arr,n):\n",
    "    closest_index=0\n",
    "    diff=abs(arr[closest_index]-n)\n",
    "    \n",
    "    for index in range(len(arr)):\n",
    "        if(abs(arr[index]-n)<diff):\n",
    "            diff=abs(arr[index]-n)\n",
    "            closest_index=index\n",
    "    return closest_index"
   ]
  },
  {
   "cell_type": "code",
   "execution_count": 26,
   "metadata": {},
   "outputs": [],
   "source": [
    "def get_matching_map(inverse_map_source,inverse_map_target,l):\n",
    "    matching_map=[0]*l\n",
    "    for i in range(l):\n",
    "        matching_map[inverse_map_source[i]]=inverse_map_target[i]\n",
    "    \n",
    "    return matching_map\n"
   ]
  },
  {
   "cell_type": "code",
   "execution_count": 27,
   "metadata": {},
   "outputs": [],
   "source": [
    "def match(matching_map,img_linear,frequency_distribution,l) : \n",
    "    total_pixels=len(img_linear)\n",
    "    new_img_linear=[0]*total_pixels\n",
    "    new_frequency_distribution=[0]*l\n",
    "    for i in range(l):\n",
    "        new_frequency_distribution[matching_map[i]]=frequency_distribution[i]\n",
    "        \n",
    "    for i in range(total_pixels):\n",
    "        new_img_linear[i]=matching_map[img_linear[i]]\n",
    "    \n",
    "       \n",
    "\n",
    "    return img_linear,new_frequency_distribution\n"
   ]
  },
  {
   "cell_type": "code",
   "execution_count": 35,
   "metadata": {},
   "outputs": [],
   "source": [
    "def plot_bar(distribution,name):\n",
    "    index = np.arange(0,256)\n",
    "    plt.bar(index, distribution )\n",
    "    plt.xlabel('Intensity Level')\n",
    "    plt.ylabel('Frequency')\n",
    "    fig = plt.gcf()\n",
    "    print(name)\n",
    "    plt.show()\n",
    "    fig.savefig(name)"
   ]
  },
  {
   "cell_type": "code",
   "execution_count": 36,
   "metadata": {},
   "outputs": [],
   "source": [
    "def create_image(equalization_map,name,final_name):\n",
    "    img = Image.open(name)\n",
    "    width, height = img.size\n",
    "    pixels = img.load()\n",
    "    for w in range(width):\n",
    "        for h in range(height):\n",
    "            #retrieve the pixel value\n",
    "            p = img.getpixel((w,h))\n",
    "            \n",
    "            pixels[w,h] = (equalization_map[p])\n",
    "  \n",
    "    img.show()\n",
    "    img.save(final_name)"
   ]
  },
  {
   "cell_type": "code",
   "execution_count": 37,
   "metadata": {},
   "outputs": [],
   "source": [
    "def main():\n",
    "    location=\"SampleImages/\"\n",
    "    name_source=\"dark.jpg\"\n",
    "    name_target=\"rose_gray.jpg\"\n",
    "    l=256\n",
    "    \n",
    "    img_linear_source= get_image_linear(location+name_source,l)\n",
    "    img_linear_target= get_image_linear(location+name_target,l)\n",
    "    \n",
    "    total_pixels_source=len(img_linear_source)\n",
    "    total_pixels_target=len(img_linear_target)\n",
    "#     print(\"total pixels\",total_pixels,\"\\n\")\n",
    "\n",
    "    frequency_distribution_source=get_frequency_distribution(img_linear_source,l)\n",
    "    frequency_distribution_target=get_frequency_distribution(img_linear_target,l)\n",
    "    \n",
    "    equalization_map_inverse_source=get_equalization_map_inverse(total_pixels_source,frequency_distribution_source,l)\n",
    "    equalization_map_inverse_target=get_equalization_map_inverse(total_pixels_target,frequency_distribution_target,l)\n",
    "    \n",
    "    matching_map=get_matching_map(equalization_map_inverse_source,equalization_map_inverse_target,l)\n",
    "    \n",
    "    new_img_linear,new_frequency_distribution=match(matching_map,img_linear_source,frequency_distribution_source,l)\n",
    "    \n",
    "    \n",
    "    plot_bar(frequency_distribution_target,name_target+\"_target.png\")\n",
    "    plot_bar(frequency_distribution_source,name_source+\"_before_matching_source.png\")\n",
    "    plot_bar(new_frequency_distribution,name_source+\"_after_matching_source.png\")\n",
    "    \n",
    "    create_image(matching_map,location+name_source,location+\"new_matched_\"+name_source)\n",
    "   \n",
    "    \n",
    "    "
   ]
  },
  {
   "cell_type": "code",
   "execution_count": 38,
   "metadata": {},
   "outputs": [
    {
     "name": "stdout",
     "output_type": "stream",
     "text": [
      "rose_gray.jpg_target.png\n"
     ]
    },
    {
     "data": {
      "image/png": "[encoded data removed]",
      "text/plain": [
       "<Figure size 432x288 with 1 Axes>"
      ]
     },
     "metadata": {
      "needs_background": "light"
     },
     "output_type": "display_data"
    },
    {
     "name": "stdout",
     "output_type": "stream",
     "text": [
      "dark.jpg_before_matching_source.png\n"
     ]
    },
    {
     "data": {
      "image/png": "[encoded data removed]",
      "text/plain": [
       "<Figure size 432x288 with 1 Axes>"
      ]
     },
     "metadata": {
      "needs_background": "light"
     },
     "output_type": "display_data"
    },
    {
     "name": "stdout",
     "output_type": "stream",
     "text": [
      "dark.jpg_after_matching_source.png\n"
     ]
    },
    {
     "data": {
      "image/png": "[encoded data removed]",
      "text/plain": [
       "<Figure size 432x288 with 1 Axes>"
      ]
     },
     "metadata": {
      "needs_background": "light"
     },
     "output_type": "display_data"
    }
   ],
   "source": [
    "main()"
   ]
  },
  {
   "cell_type": "code",
   "execution_count": null,
   "metadata": {},
   "outputs": [],
   "source": []
  }
 ],
 "metadata": {
  "kernelspec": {
   "display_name": "Python 3",
   "language": "python",
   "name": "python3"
  },
  "language_info": {
   "codemirror_mode": {
    "name": "ipython",
    "version": 3
   },
   "file_extension": ".py",
   "mimetype": "text/x-python",
   "name": "python",
   "nbconvert_exporter": "python",
   "pygments_lexer": "ipython3",
   "version": "3.6.8"
  }
 },
 "nbformat": 4,
 "nbformat_minor": 2
}
