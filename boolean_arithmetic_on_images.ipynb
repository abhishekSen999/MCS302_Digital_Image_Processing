{
 "cells": [
  {
   "cell_type": "code",
   "execution_count": 1,
   "metadata": {},
   "outputs": [],
   "source": [
    "from PIL import Image\n",
    "import math \n",
    "import numpy as np"
   ]
  },
  {
   "cell_type": "code",
   "execution_count": 2,
   "metadata": {},
   "outputs": [],
   "source": [
    "def createMaskImage(img):\n",
    "    width, height = img.size\n",
    "    wmin, wmax = width/8, width/2\n",
    "    hmin, hmax = height/8, height/2\n",
    "\n",
    "    pixels = img.load()  \n",
    "\n",
    "    for w in range(width):\n",
    "        for h in range(height):\n",
    "            if(w > wmin and w < wmax and h > hmin and h < hmax):\n",
    "                pixels[w,h] = 255\n",
    "            else:\n",
    "                pixels[w,h] = 0\n",
    "            \n",
    "    img.save(\"SampleImages/image_mask.jpg\")\n",
    "    return img"
   ]
  },
  {
   "cell_type": "code",
   "execution_count": 3,
   "metadata": {},
   "outputs": [],
   "source": [
    "def booleanOR(m,p):\n",
    "    new_pixel = (m | p)\n",
    "    return round(new_pixel)"
   ]
  },
  {
   "cell_type": "code",
   "execution_count": 8,
   "metadata": {},
   "outputs": [],
   "source": [
    "def main():\n",
    "    #open the image \n",
    "    img = Image.open(\"SampleImages/rose_gray.jpg\")    \n",
    "    \n",
    "    #calculate width and height of the image\n",
    "    width, height = img.size\n",
    "    \n",
    "    #create masking image\n",
    "    img2 = createMaskImage(img)\n",
    "    #img2.show()\n",
    "    \n",
    "    #load pixel data\n",
    "    pixels = img.load()  \n",
    "        \n",
    "    for w in range(width):\n",
    "        for h in range(height):\n",
    "            p = img.getpixel((w,h))\n",
    "            m = img2.getpixel((w,h))\n",
    "            pixels[w,h] = (booleanOR(m,p))\n",
    "            \n",
    "    #save altered image        \n",
    "    img.save(\"SampleImages/boolean_and.jpg\")        "
   ]
  },
  {
   "cell_type": "code",
   "execution_count": 9,
   "metadata": {},
   "outputs": [],
   "source": [
    "if __name__ == '__main__':\n",
    "    main()"
   ]
  },
  {
   "cell_type": "code",
   "execution_count": 90,
   "metadata": {},
   "outputs": [
    {
     "data": {
      "text/plain": [
       "(6, 0)"
      ]
     },
     "execution_count": 90,
     "metadata": {},
     "output_type": "execute_result"
    }
   ],
   "source": [
    "p = img1.getpixel((2,100))\n",
    "m = img2.getpixel((250,10))\n",
    "def booleanOR(p,m):\n",
    "    new_pixel = (m | p)\n",
    "    return round(new_pixel)\n",
    "p,m"
   ]
  },
  {
   "cell_type": "code",
   "execution_count": 95,
   "metadata": {},
   "outputs": [
    {
     "data": {
      "text/plain": [
       "6"
      ]
     },
     "execution_count": 95,
     "metadata": {},
     "output_type": "execute_result"
    }
   ],
   "source": [
    "booleanOR(m,p)"
   ]
  },
  {
   "cell_type": "code",
   "execution_count": 69,
   "metadata": {},
   "outputs": [
    {
     "data": {
      "text/plain": [
       "0"
      ]
     },
     "execution_count": 69,
     "metadata": {},
     "output_type": "execute_result"
    }
   ],
   "source": [
    "(m & p) % 255"
   ]
  }
 ],
 "metadata": {
  "kernelspec": {
   "display_name": "Python 3",
   "language": "python",
   "name": "python3"
  },
  "language_info": {
   "codemirror_mode": {
    "name": "ipython",
    "version": 3
   },
   "file_extension": ".py",
   "mimetype": "text/x-python",
   "name": "python",
   "nbconvert_exporter": "python",
   "pygments_lexer": "ipython3",
   "version": "3.7.3"
  }
 },
 "nbformat": 4,
 "nbformat_minor": 2
}
